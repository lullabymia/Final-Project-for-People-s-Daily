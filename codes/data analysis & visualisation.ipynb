{
 "cells": [
  {
   "cell_type": "markdown",
   "metadata": {},
   "source": [
    "# draw wordcloud "
   ]
  },
  {
   "cell_type": "code",
   "execution_count": null,
   "metadata": {},
   "outputs": [],
   "source": [
    "!pip install wordcloud\n",
    "!pip install Pillow\n",
    "from PIL import Image\n",
    "import wordcloud\n",
    "import numpy as np\n",
    "import matplotlib.pyplot as plt\n",
    "from PIL import Image\n",
    "import pandas\n",
    "df = pandas.read_csv('2008下半年.csv')\n",
    "df.columns=['keyword','frequency']\n",
    "df.set_index('keyword')\n",
    "# filter top 500 words\n",
    "word = df['keyword'][:500]\n",
    "\n",
    "filepath = 'stopwords-zh.txt'\n",
    "stopwords = [line.strip() for line in open(filepath, 'r', encoding='utf-8').readlines()]\n",
    "def tag_cloud(text):\n",
    "    mask = np.array(Image.open('china outline.png')) #set mask, you can change to the picture you like, but it must have a high color contrast\n",
    "    wc = wordcloud.WordCloud(mode='RGBA',background_color='white',font_path='/Library/Fonts/Songti.ttc',max_words=2000,stopwords=stopwords,max_font_size=300,random_state=42,mask=mask)\n",
    "    wc.generate_from_text(' '.join(text))\n",
    "    plt.figure(figsize=(12,12))\n",
    "    plt.imshow(wc, interpolation='bilinear')\n",
    "    plt.axis(\"off\")\n",
    "    plt.title('2008 Top 500', loc='Center', fontsize=30)\n",
    "    plt.show()\n",
    "    return plt.show()\n",
    "tag_cloud(word)"
   ]
  },
  {
   "cell_type": "markdown",
   "metadata": {},
   "source": [
    "# bar chart "
   ]
  },
  {
   "cell_type": "code",
   "execution_count": null,
   "metadata": {},
   "outputs": [],
   "source": [
    "import matplotlib.pyplot as plt\n",
    "import numpy as np\n",
    "df = pd.DataFrame(dict(graph=['2008','2009', '2010', '2011','2012','2013','2014','2015','2016','2017','2018'],\n",
    "                           n=[42,25, 30, 24,0,86,24,121,36,139,91], m=[13,17, 32, 32, 0, 29,4,26,28,44,38])) \n",
    "\n",
    "ind = np.arange(len(df))\n",
    "width = 0.4\n",
    "\n",
    "fig, ax = plt.subplots()\n",
    "ax.barh(ind, df.n, width, color='red', label='President')\n",
    "ax.barh(ind + width, df.m, width, color='green', label='Prime Minister')\n",
    "\n",
    "ax.set(yticks=ind + width, yticklabels=df.graph, ylim=[2*width - 1, len(df)])\n",
    "ax.legend()\n",
    "plt.title('Frequency of Names in Three Days (10.1-10.3)')\n",
    "\n",
    "\n",
    "plt.show()"
   ]
  },
  {
   "cell_type": "markdown",
   "metadata": {},
   "source": [
    "# WordCloud for country and city names"
   ]
  },
  {
   "cell_type": "code",
   "execution_count": null,
   "metadata": {},
   "outputs": [],
   "source": [
    "!pip install pyecharts\n",
    "# 18年全年 国内地区\n",
    "from pyecharts import WordCloud\n",
    "word = ['北京','上海','海南','长江','香港','青岛','宁夏','雄安','福建','广东','重庆','深圳','四川','山东','武汉','河北','京津冀','浙江',\n",
    "       '厦门','江苏']\n",
    "values = [ 7007,2796, 1540,1478,  1144,    883,  702,   685,   639,   637,    619, 555,  543,   513,    495,  485,    480,    748,\n",
    "          445, 436]\n",
    "\n",
    "wordcloud = WordCloud(width=1300, height=620)\n",
    "wordcloud.add(\"\", word, values, word_size_range=[20, 100])\n",
    "wordcloud.render('region-in-renminribao.html')\n",
    "\n",
    "from IPython.display import IFrame\n",
    "IFrame('region-in-renminribao.html', width=700, height=620)\n"
   ]
  },
  {
   "cell_type": "code",
   "execution_count": null,
   "metadata": {},
   "outputs": [],
   "source": [
    "# 18年全年 国外地区\n",
    "from pyecharts import WordCloud\n",
    "words = ['非洲','美国','金砖','俄罗斯','南非','日本','东盟', '欧洲','泰国','巴基斯坦','德国','中东欧','塞内加尔','英国','印尼','亚洲',\n",
    "         '印度','欧盟','约翰内斯堡','阿联酋']\n",
    "value = [ 3515, 3923,  1396,   1031,     955,   782,  754,     576,   537,    527,     511,    508,     496,       493,   474, 1115\n",
    "        ,453,453,442,438]\n",
    "\n",
    "wordcloud = WordCloud(width=1300, height=620)\n",
    "wordcloud.add(\"\", words, value, word_size_range=[20, 100])\n",
    "wordcloud.render('trade-war-wordcloud.html')\n",
    "\n",
    "from IPython.display import IFrame\n",
    "IFrame('trade-war-wordcloud.html', width=700, height=620)"
   ]
  },
  {
   "cell_type": "code",
   "execution_count": null,
   "metadata": {},
   "outputs": [],
   "source": [
    "# 17年全年 国外地区\n",
    "from pyecharts import WordCloud\n",
    "word1 = ['美国','金砖','俄罗斯','非洲','东盟','越南','哈萨克斯坦','欧洲' ,'巴西','老挝',\n",
    "        '亚洲','日本','印度','巴基斯坦','瑞士',  '泰国','英国','欧盟','芬兰','韩国']\n",
    "value1 = [  2440,  3891,  1388,    1343, 1206,  1036,     943,     877  ,   862    ,822,  \n",
    "        808,799,        648,    646,   607,     594,    587,    572,   562,475]\n",
    "\n",
    "wordcloud = WordCloud(width=1300, height=620)\n",
    "wordcloud.add(\"\", word1, value1, word_size_range=[20, 100])\n",
    "wordcloud.render('2017-foreign-countries.html')\n",
    "\n",
    "from IPython.display import IFrame\n",
    "IFrame('2017-foreign-countries.html', width=700, height=620)"
   ]
  },
  {
   "cell_type": "code",
   "execution_count": null,
   "metadata": {},
   "outputs": [],
   "source": [
    "# 17年全年 国内地区\n",
    "from pyecharts import WordCloud\n",
    "word2 = ['北京','香港','上海','河北','厦门','内蒙古','浙江','雄安' ,'天津', '杭州' ,\n",
    "        '新疆' ,'长江','四川','广西','广东',   '西藏','辽宁','福建','南海','山东','贵州']\n",
    "value2 = [7980,   2451,1985,  1035,  906 ,890,    819,      737   ,700 ,     632,   \n",
    "          623, 566 , 559 , 533,      494 ,     484,   483,     459, 459,452,450]\n",
    "\n",
    "wordcloud = WordCloud(width=1300, height=620)\n",
    "wordcloud.add(\"\", word2, value2, word_size_range=[20, 100])\n",
    "wordcloud.render('2017-cities-provinces.html')\n",
    "\n",
    "from IPython.display import IFrame\n",
    "IFrame('2017-cities-provinces.html', width=700, height=620)"
   ]
  },
  {
   "cell_type": "code",
   "execution_count": null,
   "metadata": {},
   "outputs": [],
   "source": [
    "# 08年下半年 国内地区\n",
    "from pyecharts import WordCloud\n",
    "word3 = ['北京','上海','四川','广西','宁夏','汶川','台湾','西藏','香港','天津',\n",
    "        '广东','浙江','成都','广州','江苏','南宁','内蒙古','青岛','重庆','福建']\n",
    "value3 = [9484,1176,1026, 836,        832 ,810,      604,   591,538,493,\n",
    "        289 ,263,247           ,245    ,234,214,207,201,194,191]\n",
    "\n",
    "wordcloud = WordCloud(width=1300, height=620)\n",
    "wordcloud.add(\"\", word3, value3, word_size_range=[20, 100])\n",
    "wordcloud.render('2008-cities-provinces.html')\n",
    "\n",
    "from IPython.display import IFrame\n",
    "IFrame('2008-cities-provinces.html', width=700, height=620)"
   ]
  },
  {
   "cell_type": "code",
   "execution_count": null,
   "metadata": {},
   "outputs": [],
   "source": [
    "# 18年下半年 国内地区\n",
    "from pyecharts import WordCloud\n",
    "word5 = ['北京','上海','香港','宁夏','海南','广西','浙江','重庆','广东','天津',\n",
    "         '四川','澳门','武汉','山东','江苏','大湾','粤港澳','浦东','福建','南海']\n",
    "value5 = [3696,1459, 768 ,558, 357 ,341 ,337                ,337    ,335,259,     \n",
    "          253,246,241,240,236,                234,227 ,216      ,215,208]\n",
    "\n",
    "wordcloud = WordCloud(width=1300, height=620)\n",
    "wordcloud.add(\"\", word5, value5, word_size_range=[20, 100])\n",
    "wordcloud.render('2018-cities-provinces.html')\n",
    "\n",
    "from IPython.display import IFrame\n",
    "IFrame('2018-cities-provinces.html', width=700, height=620)"
   ]
  },
  {
   "cell_type": "code",
   "execution_count": null,
   "metadata": {},
   "outputs": [],
   "source": [
    "# 18年下半年 国外地区\n",
    "from pyecharts import WordCloud\n",
    "word6 = ['非洲','美国','金砖','南非','俄罗斯','东盟','塞内加尔','卢旺达','中东欧','阿联酋',\n",
    "         '约翰内斯堡','日本','西班牙','新加坡','欧洲','菲律宾','亚洲','欧盟','文莱','阿根廷']\n",
    "value6 = [ 2977, 2124, 1296,866,        496,   772,  480 ,478,431,                 431,\n",
    "         401,          397,     392,    372,     363,   362,   357,  326,315,270]\n",
    "\n",
    "wordcloud = WordCloud(width=1300, height=620)\n",
    "wordcloud.add(\"\", word6, value6, word_size_range=[20, 100])\n",
    "wordcloud.render('2018-foreign-countries.html')\n",
    "\n",
    "from IPython.display import IFrame\n",
    "IFrame('2018-foreign-countries.html', width=700, height=620)"
   ]
  }
 ],
 "metadata": {
  "kernelspec": {
   "display_name": "Python 3",
   "language": "python",
   "name": "python3"
  },
  "language_info": {
   "codemirror_mode": {
    "name": "ipython",
    "version": 3
   },
   "file_extension": ".py",
   "mimetype": "text/x-python",
   "name": "python",
   "nbconvert_exporter": "python",
   "pygments_lexer": "ipython3",
   "version": "3.7.0"
  }
 },
 "nbformat": 4,
 "nbformat_minor": 2
}
