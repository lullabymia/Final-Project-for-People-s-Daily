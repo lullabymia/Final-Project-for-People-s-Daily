{
 "cells": [
  {
   "cell_type": "markdown",
   "metadata": {},
   "source": [
    "# text scraping"
   ]
  },
  {
   "cell_type": "code",
   "execution_count": null,
   "metadata": {},
   "outputs": [],
   "source": [
    "# define a function to get text from webpages\n",
    "def gettext(url):\n",
    "    import requests\n",
    "    r=requests.get(url)\n",
    "    r.encoding = 'utf-8'\n",
    "    import bs4\n",
    "    mypage = bs4.BeautifulSoup(r.text)\n",
    "    text = mypage.find(attrs={'class': 'text_c'}).text.strip()\n",
    "    return text \n",
    "\n",
    "\n",
    "# append all urls \n",
    "urls = []\n",
    "date = []\n",
    "for c in range(1,4):\n",
    "    if c < 10:\n",
    "        m = str(c)\n",
    "        c = '0'+ m\n",
    "    else:\n",
    "        c = c\n",
    "    date.append(c)\n",
    "for c in date:\n",
    "    a = 1\n",
    "    while a < 10:\n",
    "        for b in range(1,5):\n",
    "            url = \"http://paper.people.com.cn/rmrb/html/2008-10/{2}/nw.D110000renmrb_200810{2}_{0}-0{1}.htm\".format(a,b,c)\n",
    "            urls.append(url)\n",
    "\n",
    "        a = a + 1\n",
    "        \n",
    "# collect text in tendays        \n",
    "tendays=[]\n",
    "for url in urls:\n",
    "    try:\n",
    "        text = gettext(url)\n",
    "        tendays.append(text)\n",
    "    except Exception as e:\n",
    "        print(e)\n",
    "        print('Error on page %s' % url)\n",
    "\n",
    "# write in text files        \n",
    "with open('2008三天.text', 'w') as f:\n",
    "    for item in tendays:\n",
    "        f.write(\"%s\\n\" % item)"
   ]
  },
  {
   "cell_type": "markdown",
   "metadata": {},
   "source": [
    "# counting word frequency"
   ]
  },
  {
   "cell_type": "code",
   "execution_count": null,
   "metadata": {},
   "outputs": [],
   "source": [
    "# cutting text with jieba\n",
    "import jieba\n",
    "words = open('2018下半年.text',\"r\").read()\n",
    "jieba.add_word('一带一路')\n",
    "jieba.add_word('改革开放')\n",
    "jieba.add_word('人类命运共同体')\n",
    "jieba.add_word('大湾区')\n",
    "jieba.add_word('习近平新时代中国特色社会主义思想')\n",
    "jieba.add_word('十一届三中全会')\n",
    "jieba.add_word('三中全会')\n",
    "jieba.add_word('共享经济')\n",
    "jieba.add_word('习近平新时代中国特色社会主义')\n",
    "jieba.add_word('供给侧结构性改革')\n",
    "jieba.add_word('占中')\n",
    "jieba.add_word('天宫一号')\n",
    "jieba.add_word('上海世博会')\n",
    "jieba.add_word('嫦娥二号')\n",
    "jieba.add_word('科学发展观')\n",
    "jieba.add_word('两岸三通')\n",
    "jieba.add_word('问责')\n",
    "jieba.add_word('金融危机')\n",
    "jieba.add_word('限塑令')\n",
    "jieba.add_word('土地流转')\n",
    "jieba.add_word('三聚氰胺')\n",
    "words = jieba.cut(words)\n",
    "filepath = 'stopwords-zh.txt'\n",
    "stopwords = [line.strip() for line in open(filepath, 'r', encoding='utf-8').readlines()]\n",
    "#remove stopwords\n",
    "processed_word_list = []\n",
    "for word in words:\n",
    "    if word not in stopwords and len(word)>1: #remove single word\n",
    "        processed_word_list.append(word)\n",
    "# counting word frequency\n",
    "wordcount={}\n",
    "for word in processed_word_list:\n",
    "    if word not in wordcount:\n",
    "        wordcount[word] = 1\n",
    "    else:\n",
    "        wordcount[word] += 1\n",
    "import operator\n",
    "sorted_wordcount = sorted(wordcount.items(), key=operator.itemgetter(1),reverse=True) \n",
    "\n",
    "# write wordfrequency csv file\n",
    "import csv\n",
    "with open('2018下半年.csv','w')as f:\n",
    "    mywriter=csv.writer(f)\n",
    "    mywriter.writerows(sorted_wordcount)\n",
    "f.close()"
   ]
  }
 ],
 "metadata": {
  "kernelspec": {
   "display_name": "Python 3",
   "language": "python",
   "name": "python3"
  },
  "language_info": {
   "codemirror_mode": {
    "name": "ipython",
    "version": 3
   },
   "file_extension": ".py",
   "mimetype": "text/x-python",
   "name": "python",
   "nbconvert_exporter": "python",
   "pygments_lexer": "ipython3",
   "version": "3.7.0"
  }
 },
 "nbformat": 4,
 "nbformat_minor": 2
}
