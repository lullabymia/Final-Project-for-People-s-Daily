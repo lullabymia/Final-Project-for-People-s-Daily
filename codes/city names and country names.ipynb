{
 "cells": [
  {
   "cell_type": "code",
   "execution_count": 1,
   "metadata": {},
   "outputs": [
    {
     "name": "stdout",
     "output_type": "stream",
     "text": [
      "Requirement already satisfied: pyecharts in c:\\users\\mona\\appdata\\local\\programs\\python\\python37-32\\lib\\site-packages (0.5.11)\n",
      "Requirement already satisfied: lml==0.0.2 in c:\\users\\mona\\appdata\\local\\programs\\python\\python37-32\\lib\\site-packages (from pyecharts) (0.0.2)\n",
      "Requirement already satisfied: future in c:\\users\\mona\\appdata\\local\\programs\\python\\python37-32\\lib\\site-packages (from pyecharts) (0.17.1)\n",
      "Requirement already satisfied: jupyter-echarts-pypkg==0.1.2 in c:\\users\\mona\\appdata\\local\\programs\\python\\python37-32\\lib\\site-packages (from pyecharts) (0.1.2)\n",
      "Requirement already satisfied: pyecharts-javascripthon==0.0.6 in c:\\users\\mona\\appdata\\local\\programs\\python\\python37-32\\lib\\site-packages (from pyecharts) (0.0.6)\n",
      "Requirement already satisfied: jinja2 in c:\\users\\mona\\appdata\\local\\programs\\python\\python37-32\\lib\\site-packages (from pyecharts) (2.10)\n",
      "Requirement already satisfied: pillow in c:\\users\\mona\\appdata\\local\\programs\\python\\python37-32\\lib\\site-packages (from pyecharts) (5.3.0)\n",
      "Requirement already satisfied: pyecharts-jupyter-installer==0.0.3 in c:\\users\\mona\\appdata\\local\\programs\\python\\python37-32\\lib\\site-packages (from jupyter-echarts-pypkg==0.1.2->pyecharts) (0.0.3)\n",
      "Requirement already satisfied: javascripthon>=0.10; python_version > \"3.4\" in c:\\users\\mona\\appdata\\local\\programs\\python\\python37-32\\lib\\site-packages (from pyecharts-javascripthon==0.0.6->pyecharts) (0.10)\n",
      "Requirement already satisfied: MarkupSafe>=0.23 in c:\\users\\mona\\appdata\\local\\programs\\python\\python37-32\\lib\\site-packages (from jinja2->pyecharts) (1.0)\n",
      "Requirement already satisfied: setuptools in c:\\users\\mona\\appdata\\local\\programs\\python\\python37-32\\lib\\site-packages (from javascripthon>=0.10; python_version > \"3.4\"->pyecharts-javascripthon==0.0.6->pyecharts) (39.0.1)\n",
      "Requirement already satisfied: dukpy in c:\\users\\mona\\appdata\\local\\programs\\python\\python37-32\\lib\\site-packages (from javascripthon>=0.10; python_version > \"3.4\"->pyecharts-javascripthon==0.0.6->pyecharts) (0.2.2)\n",
      "Requirement already satisfied: macropy3==1.1.0b2 in c:\\users\\mona\\appdata\\local\\programs\\python\\python37-32\\lib\\site-packages (from javascripthon>=0.10; python_version > \"3.4\"->pyecharts-javascripthon==0.0.6->pyecharts) (1.1.0b2)\n"
     ]
    }
   ],
   "source": [
    "!pip install pyecharts"
   ]
  },
  {
   "cell_type": "code",
   "execution_count": 14,
   "metadata": {},
   "outputs": [],
   "source": [
    "# 18年全年 国内地区"
   ]
  },
  {
   "cell_type": "code",
   "execution_count": 36,
   "metadata": {
    "scrolled": true
   },
   "outputs": [
    {
     "data": {
      "text/html": [
       "\n",
       "        <iframe\n",
       "            width=\"700\"\n",
       "            height=\"620\"\n",
       "            src=\"region-in-renminribao.html\"\n",
       "            frameborder=\"0\"\n",
       "            allowfullscreen\n",
       "        ></iframe>\n",
       "        "
      ],
      "text/plain": [
       "<IPython.lib.display.IFrame at 0xa1bfd90>"
      ]
     },
     "execution_count": 36,
     "metadata": {},
     "output_type": "execute_result"
    }
   ],
   "source": [
    "from pyecharts import WordCloud\n",
    "word = ['北京','上海','海南','长江','香港','青岛','宁夏','雄安','福建','广东','重庆','深圳','四川','山东','武汉','河北','京津冀','浙江',\n",
    "       '厦门','江苏']\n",
    "values = [ 7007,2796, 1540,1478,  1144,    883,  702,   685,   639,   637,    619, 555,  543,   513,    495,  485,    480,    748,\n",
    "          445, 436]\n",
    "\n",
    "wordcloud = WordCloud(width=1300, height=620)\n",
    "wordcloud.add(\"\", word, values, word_size_range=[20, 100])\n",
    "wordcloud.render('region-in-renminribao.html')\n",
    "\n",
    "from IPython.display import IFrame\n",
    "IFrame('region-in-renminribao.html', width=700, height=620)\n"
   ]
  },
  {
   "cell_type": "code",
   "execution_count": 15,
   "metadata": {},
   "outputs": [],
   "source": [
    "# 18年全年 国外地区"
   ]
  },
  {
   "cell_type": "code",
   "execution_count": 34,
   "metadata": {},
   "outputs": [
    {
     "data": {
      "text/html": [
       "\n",
       "        <iframe\n",
       "            width=\"700\"\n",
       "            height=\"620\"\n",
       "            src=\"trade-war-wordcloud.html\"\n",
       "            frameborder=\"0\"\n",
       "            allowfullscreen\n",
       "        ></iframe>\n",
       "        "
      ],
      "text/plain": [
       "<IPython.lib.display.IFrame at 0x3b27a30>"
      ]
     },
     "execution_count": 34,
     "metadata": {},
     "output_type": "execute_result"
    }
   ],
   "source": [
    "from pyecharts import WordCloud\n",
    "words = ['非洲','美国','金砖','俄罗斯','南非','日本','东盟', '欧洲','泰国','巴基斯坦','德国','中东欧','塞内加尔','英国','印尼','亚洲',\n",
    "         '印度','欧盟','约翰内斯堡','阿联酋']\n",
    "value = [ 3515, 3923,  1396,   1031,     955,   782,  754,     576,   537,    527,     511,    508,     496,       493,   474, 1115\n",
    "        ,453,453,442,438]\n",
    "\n",
    "wordcloud = WordCloud(width=1300, height=620)\n",
    "wordcloud.add(\"\", words, value, word_size_range=[20, 100])\n",
    "wordcloud.render('trade-war-wordcloud.html')\n",
    "\n",
    "from IPython.display import IFrame\n",
    "IFrame('trade-war-wordcloud.html', width=700, height=620)"
   ]
  },
  {
   "cell_type": "code",
   "execution_count": 16,
   "metadata": {},
   "outputs": [],
   "source": [
    "# 17年全年 国外地区"
   ]
  },
  {
   "cell_type": "code",
   "execution_count": 43,
   "metadata": {},
   "outputs": [
    {
     "data": {
      "text/html": [
       "\n",
       "        <iframe\n",
       "            width=\"700\"\n",
       "            height=\"620\"\n",
       "            src=\"2017-foreign-countries.html\"\n",
       "            frameborder=\"0\"\n",
       "            allowfullscreen\n",
       "        ></iframe>\n",
       "        "
      ],
      "text/plain": [
       "<IPython.lib.display.IFrame at 0x14f2ad0>"
      ]
     },
     "execution_count": 43,
     "metadata": {},
     "output_type": "execute_result"
    }
   ],
   "source": [
    "from pyecharts import WordCloud\n",
    "word1 = ['美国','金砖','俄罗斯','非洲','东盟','越南','哈萨克斯坦','欧洲' ,'巴西','老挝',\n",
    "        '亚洲','日本','印度','巴基斯坦','瑞士',  '泰国','英国','欧盟','芬兰','韩国']\n",
    "value1 = [  2440,  3891,  1388,    1343, 1206,  1036,     943,     877  ,   862    ,822,  \n",
    "        808,799,        648,    646,   607,     594,    587,    572,   562,475]\n",
    "\n",
    "wordcloud = WordCloud(width=1300, height=620)\n",
    "wordcloud.add(\"\", word1, value1, word_size_range=[20, 100])\n",
    "wordcloud.render('2017-foreign-countries.html')\n",
    "\n",
    "from IPython.display import IFrame\n",
    "IFrame('2017-foreign-countries.html', width=700, height=620)"
   ]
  },
  {
   "cell_type": "code",
   "execution_count": 18,
   "metadata": {},
   "outputs": [],
   "source": [
    "# 17年全年 国内地区"
   ]
  },
  {
   "cell_type": "code",
   "execution_count": 17,
   "metadata": {},
   "outputs": [
    {
     "data": {
      "text/html": [
       "\n",
       "        <iframe\n",
       "            width=\"700\"\n",
       "            height=\"620\"\n",
       "            src=\"2017-cities-provinces.html\"\n",
       "            frameborder=\"0\"\n",
       "            allowfullscreen\n",
       "        ></iframe>\n",
       "        "
      ],
      "text/plain": [
       "<IPython.lib.display.IFrame at 0x15f5df0>"
      ]
     },
     "execution_count": 17,
     "metadata": {},
     "output_type": "execute_result"
    }
   ],
   "source": [
    "from pyecharts import WordCloud\n",
    "word2 = ['北京','香港','上海','河北','厦门','内蒙古','浙江','雄安' ,'天津', '杭州' ,\n",
    "        '新疆' ,'长江','四川','广西','广东',   '西藏','辽宁','福建','南海','山东','贵州']\n",
    "value2 = [7980,   2451,1985,  1035,  906 ,890,    819,      737   ,700 ,     632,   \n",
    "          623, 566 , 559 , 533,      494 ,     484,   483,     459, 459,452,450]\n",
    "\n",
    "wordcloud = WordCloud(width=1300, height=620)\n",
    "wordcloud.add(\"\", word2, value2, word_size_range=[20, 100])\n",
    "wordcloud.render('2017-cities-provinces.html')\n",
    "\n",
    "from IPython.display import IFrame\n",
    "IFrame('2017-cities-provinces.html', width=700, height=620)"
   ]
  },
  {
   "cell_type": "code",
   "execution_count": 19,
   "metadata": {},
   "outputs": [],
   "source": [
    "# 08年下半年 国内地区"
   ]
  },
  {
   "cell_type": "code",
   "execution_count": 3,
   "metadata": {},
   "outputs": [
    {
     "data": {
      "text/html": [
       "\n",
       "        <iframe\n",
       "            width=\"700\"\n",
       "            height=\"620\"\n",
       "            src=\"2008-cities-provinces.html\"\n",
       "            frameborder=\"0\"\n",
       "            allowfullscreen\n",
       "        ></iframe>\n",
       "        "
      ],
      "text/plain": [
       "<IPython.lib.display.IFrame at 0x5568a10>"
      ]
     },
     "execution_count": 3,
     "metadata": {},
     "output_type": "execute_result"
    }
   ],
   "source": [
    "from pyecharts import WordCloud\n",
    "word3 = ['北京','上海','四川','广西','宁夏','汶川','台湾','西藏','香港','天津',\n",
    "        '广东','浙江','成都','广州','江苏','南宁','内蒙古','青岛','重庆','福建']\n",
    "value3 = [9484,1176,1026, 836,        832 ,810,      604,   591,538,493,\n",
    "        289 ,263,247           ,245    ,234,214,207,201,194,191]\n",
    "\n",
    "wordcloud = WordCloud(width=1300, height=620)\n",
    "wordcloud.add(\"\", word3, value3, word_size_range=[20, 100])\n",
    "wordcloud.render('2008-cities-provinces.html')\n",
    "\n",
    "from IPython.display import IFrame\n",
    "IFrame('2008-cities-provinces.html', width=700, height=620)"
   ]
  },
  {
   "cell_type": "code",
   "execution_count": 20,
   "metadata": {},
   "outputs": [],
   "source": [
    "# 08年下半年 国外地区"
   ]
  },
  {
   "cell_type": "code",
   "execution_count": 10,
   "metadata": {},
   "outputs": [
    {
     "data": {
      "text/html": [
       "\n",
       "        <iframe\n",
       "            width=\"700\"\n",
       "            height=\"620\"\n",
       "            src=\"2008-foreign-countries.html\"\n",
       "            frameborder=\"0\"\n",
       "            allowfullscreen\n",
       "        ></iframe>\n",
       "        "
      ],
      "text/plain": [
       "<IPython.lib.display.IFrame at 0x15d6db0>"
      ]
     },
     "execution_count": 10,
     "metadata": {},
     "output_type": "execute_result"
    }
   ],
   "source": [
    "from pyecharts import WordCloud\n",
    "word4 = ['美国','俄罗斯','日本','非洲','欧盟','印度','韩国','亚洲','泰国','朝鲜',\n",
    "       '巴基斯坦','巴西', '伊朗','欧洲','印尼','英国','伊拉克','柬埔寨','埃及']\n",
    "value4 = [2275, 996,     921,572,551,470,465, 428,                  399,394,\n",
    "        389,      326,320        ,312     ,304 ,303,     292,272,263]\n",
    "\n",
    "wordcloud = WordCloud(width=1300, height=620)\n",
    "wordcloud.add(\"\", word4, value4, word_size_range=[20, 100])\n",
    "wordcloud.render('2008-foreign-countries.html')\n",
    "\n",
    "from IPython.display import IFrame\n",
    "IFrame('2008-foreign-countries.html', width=700, height=620)"
   ]
  },
  {
   "cell_type": "code",
   "execution_count": 21,
   "metadata": {},
   "outputs": [],
   "source": [
    "# 18年下半年 国内地区"
   ]
  },
  {
   "cell_type": "code",
   "execution_count": 9,
   "metadata": {},
   "outputs": [
    {
     "data": {
      "text/html": [
       "\n",
       "        <iframe\n",
       "            width=\"700\"\n",
       "            height=\"620\"\n",
       "            src=\"2018-cities-provinces.html\"\n",
       "            frameborder=\"0\"\n",
       "            allowfullscreen\n",
       "        ></iframe>\n",
       "        "
      ],
      "text/plain": [
       "<IPython.lib.display.IFrame at 0x55445b0>"
      ]
     },
     "execution_count": 9,
     "metadata": {},
     "output_type": "execute_result"
    }
   ],
   "source": [
    "from pyecharts import WordCloud\n",
    "word5 = ['北京','上海','香港','宁夏','海南','广西','浙江','重庆','广东','天津',\n",
    "         '四川','澳门','武汉','山东','江苏','大湾','粤港澳','浦东','福建','南海']\n",
    "value5 = [3696,1459, 768 ,558, 357 ,341 ,337                ,337    ,335,259,     \n",
    "          253,246,241,240,236,                234,227 ,216      ,215,208]\n",
    "\n",
    "wordcloud = WordCloud(width=1300, height=620)\n",
    "wordcloud.add(\"\", word5, value5, word_size_range=[20, 100])\n",
    "wordcloud.render('2018-cities-provinces.html')\n",
    "\n",
    "from IPython.display import IFrame\n",
    "IFrame('2018-cities-provinces.html', width=700, height=620)"
   ]
  },
  {
   "cell_type": "code",
   "execution_count": 22,
   "metadata": {},
   "outputs": [],
   "source": [
    "# 18年下半年 国外地区"
   ]
  },
  {
   "cell_type": "code",
   "execution_count": 7,
   "metadata": {},
   "outputs": [
    {
     "data": {
      "text/html": [
       "\n",
       "        <iframe\n",
       "            width=\"700\"\n",
       "            height=\"620\"\n",
       "            src=\"2018-foreign-countries.html\"\n",
       "            frameborder=\"0\"\n",
       "            allowfullscreen\n",
       "        ></iframe>\n",
       "        "
      ],
      "text/plain": [
       "<IPython.lib.display.IFrame at 0x15f5e30>"
      ]
     },
     "execution_count": 7,
     "metadata": {},
     "output_type": "execute_result"
    }
   ],
   "source": [
    "from pyecharts import WordCloud\n",
    "word6 = ['非洲','美国','金砖','南非','俄罗斯','东盟','塞内加尔','卢旺达','中东欧','阿联酋',\n",
    "         '约翰内斯堡','日本','西班牙','新加坡','欧洲','菲律宾','亚洲','欧盟','文莱','阿根廷']\n",
    "value6 = [ 2977, 2124, 1296,866,        496,   772,  480 ,478,431,                 431,\n",
    "         401,          397,     392,    372,     363,   362,   357,  326,315,270]\n",
    "\n",
    "wordcloud = WordCloud(width=1300, height=620)\n",
    "wordcloud.add(\"\", word6, value6, word_size_range=[20, 100])\n",
    "wordcloud.render('2018-foreign-countries.html')\n",
    "\n",
    "from IPython.display import IFrame\n",
    "IFrame('2018-foreign-countries.html', width=700, height=620)"
   ]
  }
 ],
 "metadata": {
  "kernelspec": {
   "display_name": "Python 3",
   "language": "python",
   "name": "python3"
  },
  "language_info": {
   "codemirror_mode": {
    "name": "ipython",
    "version": 3
   },
   "file_extension": ".py",
   "mimetype": "text/x-python",
   "name": "python",
   "nbconvert_exporter": "python",
   "pygments_lexer": "ipython3",
   "version": "3.7.0"
  }
 },
 "nbformat": 4,
 "nbformat_minor": 2
}
